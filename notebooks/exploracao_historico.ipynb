{
 "cells": [
  {
   "cell_type": "code",
   "execution_count": 4,
   "metadata": {},
   "outputs": [],
   "source": [
    "import pandas as pd\n",
    "import sys\n",
    "import os"
   ]
  },
  {
   "cell_type": "code",
   "execution_count": 5,
   "metadata": {},
   "outputs": [
    {
     "name": "stdout",
     "output_type": "stream",
     "text": [
      "Requirement already satisfied: matplotlib in c:\\users\\gusta\\desktop\\estudos\\projeto\\venv\\lib\\site-packages (3.9.2)\n",
      "Requirement already satisfied: contourpy>=1.0.1 in c:\\users\\gusta\\desktop\\estudos\\projeto\\venv\\lib\\site-packages (from matplotlib) (1.2.1)\n",
      "Requirement already satisfied: cycler>=0.10 in c:\\users\\gusta\\desktop\\estudos\\projeto\\venv\\lib\\site-packages (from matplotlib) (0.12.1)\n",
      "Requirement already satisfied: fonttools>=4.22.0 in c:\\users\\gusta\\desktop\\estudos\\projeto\\venv\\lib\\site-packages (from matplotlib) (4.53.1)\n",
      "Requirement already satisfied: kiwisolver>=1.3.1 in c:\\users\\gusta\\desktop\\estudos\\projeto\\venv\\lib\\site-packages (from matplotlib) (1.4.5)\n",
      "Requirement already satisfied: numpy>=1.23 in c:\\users\\gusta\\desktop\\estudos\\projeto\\venv\\lib\\site-packages (from matplotlib) (2.1.0)\n",
      "Requirement already satisfied: packaging>=20.0 in c:\\users\\gusta\\desktop\\estudos\\projeto\\venv\\lib\\site-packages (from matplotlib) (24.1)\n",
      "Requirement already satisfied: pillow>=8 in c:\\users\\gusta\\desktop\\estudos\\projeto\\venv\\lib\\site-packages (from matplotlib) (10.4.0)\n",
      "Requirement already satisfied: pyparsing>=2.3.1 in c:\\users\\gusta\\desktop\\estudos\\projeto\\venv\\lib\\site-packages (from matplotlib) (3.1.4)\n",
      "Requirement already satisfied: python-dateutil>=2.7 in c:\\users\\gusta\\desktop\\estudos\\projeto\\venv\\lib\\site-packages (from matplotlib) (2.9.0.post0)\n",
      "Requirement already satisfied: six>=1.5 in c:\\users\\gusta\\desktop\\estudos\\projeto\\venv\\lib\\site-packages (from python-dateutil>=2.7->matplotlib) (1.16.0)\n",
      "Note: you may need to restart the kernel to use updated packages.\n"
     ]
    },
    {
     "name": "stderr",
     "output_type": "stream",
     "text": [
      "\n",
      "[notice] A new release of pip is available: 24.0 -> 24.2\n",
      "[notice] To update, run: python.exe -m pip install --upgrade pip\n"
     ]
    }
   ],
   "source": [
    "pip install matplotlib"
   ]
  },
  {
   "cell_type": "code",
   "execution_count": 6,
   "metadata": {},
   "outputs": [],
   "source": [
    "import matplotlib.pyplot as plt"
   ]
  },
  {
   "cell_type": "code",
   "execution_count": 7,
   "metadata": {},
   "outputs": [
    {
     "data": {
      "text/html": [
       "<div>\n",
       "<style scoped>\n",
       "    .dataframe tbody tr th:only-of-type {\n",
       "        vertical-align: middle;\n",
       "    }\n",
       "\n",
       "    .dataframe tbody tr th {\n",
       "        vertical-align: top;\n",
       "    }\n",
       "\n",
       "    .dataframe thead th {\n",
       "        text-align: right;\n",
       "    }\n",
       "</style>\n",
       "<table border=\"1\" class=\"dataframe\">\n",
       "  <thead>\n",
       "    <tr style=\"text-align: right;\">\n",
       "      <th></th>\n",
       "      <th>id_moeda</th>\n",
       "      <th>date</th>\n",
       "      <th>price</th>\n",
       "    </tr>\n",
       "  </thead>\n",
       "  <tbody>\n",
       "    <tr>\n",
       "      <th>0</th>\n",
       "      <td>bitcoin</td>\n",
       "      <td>2023-08-28</td>\n",
       "      <td>26082.717178</td>\n",
       "    </tr>\n",
       "    <tr>\n",
       "      <th>1</th>\n",
       "      <td>bitcoin</td>\n",
       "      <td>2023-08-29</td>\n",
       "      <td>26109.269824</td>\n",
       "    </tr>\n",
       "    <tr>\n",
       "      <th>2</th>\n",
       "      <td>bitcoin</td>\n",
       "      <td>2023-08-30</td>\n",
       "      <td>27730.503736</td>\n",
       "    </tr>\n",
       "    <tr>\n",
       "      <th>3</th>\n",
       "      <td>bitcoin</td>\n",
       "      <td>2023-08-31</td>\n",
       "      <td>27297.261438</td>\n",
       "    </tr>\n",
       "    <tr>\n",
       "      <th>4</th>\n",
       "      <td>bitcoin</td>\n",
       "      <td>2023-09-01</td>\n",
       "      <td>25927.417006</td>\n",
       "    </tr>\n",
       "  </tbody>\n",
       "</table>\n",
       "</div>"
      ],
      "text/plain": [
       "  id_moeda        date         price\n",
       "0  bitcoin  2023-08-28  26082.717178\n",
       "1  bitcoin  2023-08-29  26109.269824\n",
       "2  bitcoin  2023-08-30  27730.503736\n",
       "3  bitcoin  2023-08-31  27297.261438\n",
       "4  bitcoin  2023-09-01  25927.417006"
      ]
     },
     "execution_count": 7,
     "metadata": {},
     "output_type": "execute_result"
    }
   ],
   "source": [
    "df_historico = pd.read_csv(r'C:\\Users\\gusta\\Desktop\\Estudos\\Projeto\\data\\processed\\hist_criptos.csv')\n",
    "df_historico.head()"
   ]
  },
  {
   "cell_type": "code",
   "execution_count": 8,
   "metadata": {},
   "outputs": [
    {
     "name": "stdout",
     "output_type": "stream",
     "text": [
      "<class 'pandas.core.frame.DataFrame'>\n",
      "RangeIndex: 3660 entries, 0 to 3659\n",
      "Data columns (total 3 columns):\n",
      " #   Column    Non-Null Count  Dtype  \n",
      "---  ------    --------------  -----  \n",
      " 0   id_moeda  3660 non-null   object \n",
      " 1   date      3660 non-null   object \n",
      " 2   price     3660 non-null   float64\n",
      "dtypes: float64(1), object(2)\n",
      "memory usage: 85.9+ KB\n"
     ]
    }
   ],
   "source": [
    "df_historico.info()"
   ]
  },
  {
   "cell_type": "code",
   "execution_count": 9,
   "metadata": {},
   "outputs": [],
   "source": [
    "moedas = df_historico['id_moeda'].unique()\n",
    "dias = df_historico['date'].unique()"
   ]
  },
  {
   "cell_type": "code",
   "execution_count": 10,
   "metadata": {},
   "outputs": [
    {
     "data": {
      "text/plain": [
       "array(['2023-08-28', '2023-08-29', '2023-08-30', '2023-08-31',\n",
       "       '2023-09-01', '2023-09-02', '2023-09-03', '2023-09-04',\n",
       "       '2023-09-05', '2023-09-06', '2023-09-07', '2023-09-08',\n",
       "       '2023-09-09', '2023-09-10', '2023-09-11', '2023-09-12',\n",
       "       '2023-09-13', '2023-09-14', '2023-09-15', '2023-09-16',\n",
       "       '2023-09-17', '2023-09-18', '2023-09-19', '2023-09-20',\n",
       "       '2023-09-21', '2023-09-22', '2023-09-23', '2023-09-24',\n",
       "       '2023-09-25', '2023-09-26', '2023-09-27', '2023-09-28',\n",
       "       '2023-09-29', '2023-09-30', '2023-10-01', '2023-10-02',\n",
       "       '2023-10-03', '2023-10-04', '2023-10-05', '2023-10-06',\n",
       "       '2023-10-07', '2023-10-08', '2023-10-09', '2023-10-10',\n",
       "       '2023-10-11', '2023-10-12', '2023-10-13', '2023-10-14',\n",
       "       '2023-10-15', '2023-10-16', '2023-10-17', '2023-10-18',\n",
       "       '2023-10-19', '2023-10-20', '2023-10-21', '2023-10-22',\n",
       "       '2023-10-23', '2023-10-24', '2023-10-25', '2023-10-26',\n",
       "       '2023-10-27', '2023-10-28', '2023-10-29', '2023-10-30',\n",
       "       '2023-10-31', '2023-11-01', '2023-11-02', '2023-11-03',\n",
       "       '2023-11-04', '2023-11-05', '2023-11-06', '2023-11-07',\n",
       "       '2023-11-08', '2023-11-09', '2023-11-10', '2023-11-11',\n",
       "       '2023-11-12', '2023-11-13', '2023-11-14', '2023-11-15',\n",
       "       '2023-11-16', '2023-11-17', '2023-11-18', '2023-11-19',\n",
       "       '2023-11-20', '2023-11-21', '2023-11-22', '2023-11-23',\n",
       "       '2023-11-24', '2023-11-25', '2023-11-26', '2023-11-27',\n",
       "       '2023-11-28', '2023-11-29', '2023-11-30', '2023-12-01',\n",
       "       '2023-12-02', '2023-12-03', '2023-12-04', '2023-12-05',\n",
       "       '2023-12-06', '2023-12-07', '2023-12-08', '2023-12-09',\n",
       "       '2023-12-10', '2023-12-11', '2023-12-12', '2023-12-13',\n",
       "       '2023-12-14', '2023-12-15', '2023-12-16', '2023-12-17',\n",
       "       '2023-12-18', '2023-12-19', '2023-12-20', '2023-12-21',\n",
       "       '2023-12-22', '2023-12-23', '2023-12-24', '2023-12-25',\n",
       "       '2023-12-26', '2023-12-27', '2023-12-28', '2023-12-29',\n",
       "       '2023-12-30', '2023-12-31', '2024-01-01', '2024-01-02',\n",
       "       '2024-01-03', '2024-01-04', '2024-01-05', '2024-01-06',\n",
       "       '2024-01-07', '2024-01-08', '2024-01-09', '2024-01-10',\n",
       "       '2024-01-11', '2024-01-12', '2024-01-13', '2024-01-14',\n",
       "       '2024-01-15', '2024-01-16', '2024-01-17', '2024-01-18',\n",
       "       '2024-01-19', '2024-01-20', '2024-01-21', '2024-01-22',\n",
       "       '2024-01-23', '2024-01-24', '2024-01-25', '2024-01-26',\n",
       "       '2024-01-27', '2024-01-28', '2024-01-29', '2024-01-30',\n",
       "       '2024-01-31', '2024-02-01', '2024-02-02', '2024-02-03',\n",
       "       '2024-02-04', '2024-02-05', '2024-02-06', '2024-02-07',\n",
       "       '2024-02-08', '2024-02-09', '2024-02-10', '2024-02-11',\n",
       "       '2024-02-12', '2024-02-13', '2024-02-14', '2024-02-15',\n",
       "       '2024-02-16', '2024-02-17', '2024-02-18', '2024-02-19',\n",
       "       '2024-02-20', '2024-02-21', '2024-02-22', '2024-02-23',\n",
       "       '2024-02-24', '2024-02-25', '2024-02-26', '2024-02-27',\n",
       "       '2024-02-28', '2024-02-29', '2024-03-01', '2024-03-02',\n",
       "       '2024-03-03', '2024-03-04', '2024-03-05', '2024-03-06',\n",
       "       '2024-03-07', '2024-03-08', '2024-03-09', '2024-03-10',\n",
       "       '2024-03-11', '2024-03-12', '2024-03-13', '2024-03-14',\n",
       "       '2024-03-15', '2024-03-16', '2024-03-17', '2024-03-18',\n",
       "       '2024-03-19', '2024-03-20', '2024-03-21', '2024-03-22',\n",
       "       '2024-03-23', '2024-03-24', '2024-03-25', '2024-03-26',\n",
       "       '2024-03-27', '2024-03-28', '2024-03-29', '2024-03-30',\n",
       "       '2024-03-31', '2024-04-01', '2024-04-02', '2024-04-03',\n",
       "       '2024-04-04', '2024-04-05', '2024-04-06', '2024-04-07',\n",
       "       '2024-04-08', '2024-04-09', '2024-04-10', '2024-04-11',\n",
       "       '2024-04-12', '2024-04-13', '2024-04-14', '2024-04-15',\n",
       "       '2024-04-16', '2024-04-17', '2024-04-18', '2024-04-19',\n",
       "       '2024-04-20', '2024-04-21', '2024-04-22', '2024-04-23',\n",
       "       '2024-04-24', '2024-04-25', '2024-04-26', '2024-04-27',\n",
       "       '2024-04-28', '2024-04-29', '2024-04-30', '2024-05-01',\n",
       "       '2024-05-02', '2024-05-03', '2024-05-04', '2024-05-05',\n",
       "       '2024-05-06', '2024-05-07', '2024-05-08', '2024-05-09',\n",
       "       '2024-05-10', '2024-05-11', '2024-05-12', '2024-05-13',\n",
       "       '2024-05-14', '2024-05-15', '2024-05-16', '2024-05-17',\n",
       "       '2024-05-18', '2024-05-19', '2024-05-20', '2024-05-21',\n",
       "       '2024-05-22', '2024-05-23', '2024-05-24', '2024-05-25',\n",
       "       '2024-05-26', '2024-05-27', '2024-05-28', '2024-05-29',\n",
       "       '2024-05-30', '2024-05-31', '2024-06-01', '2024-06-02',\n",
       "       '2024-06-03', '2024-06-04', '2024-06-05', '2024-06-06',\n",
       "       '2024-06-07', '2024-06-08', '2024-06-09', '2024-06-10',\n",
       "       '2024-06-11', '2024-06-12', '2024-06-13', '2024-06-14',\n",
       "       '2024-06-15', '2024-06-16', '2024-06-17', '2024-06-18',\n",
       "       '2024-06-19', '2024-06-20', '2024-06-21', '2024-06-22',\n",
       "       '2024-06-23', '2024-06-24', '2024-06-25', '2024-06-26',\n",
       "       '2024-06-27', '2024-06-28', '2024-06-29', '2024-06-30',\n",
       "       '2024-07-01', '2024-07-02', '2024-07-03', '2024-07-04',\n",
       "       '2024-07-05', '2024-07-06', '2024-07-07', '2024-07-08',\n",
       "       '2024-07-09', '2024-07-10', '2024-07-11', '2024-07-12',\n",
       "       '2024-07-13', '2024-07-14', '2024-07-15', '2024-07-16',\n",
       "       '2024-07-17', '2024-07-18', '2024-07-19', '2024-07-20',\n",
       "       '2024-07-21', '2024-07-22', '2024-07-23', '2024-07-24',\n",
       "       '2024-07-25', '2024-07-26', '2024-07-27', '2024-07-28',\n",
       "       '2024-07-29', '2024-07-30', '2024-07-31', '2024-08-01',\n",
       "       '2024-08-02', '2024-08-03', '2024-08-04', '2024-08-05',\n",
       "       '2024-08-06', '2024-08-07', '2024-08-08', '2024-08-09',\n",
       "       '2024-08-10', '2024-08-11', '2024-08-12', '2024-08-13',\n",
       "       '2024-08-14', '2024-08-15', '2024-08-16', '2024-08-17',\n",
       "       '2024-08-18', '2024-08-19', '2024-08-20', '2024-08-21',\n",
       "       '2024-08-22', '2024-08-23', '2024-08-24', '2024-08-25',\n",
       "       '2024-08-26'], dtype=object)"
      ]
     },
     "execution_count": 10,
     "metadata": {},
     "output_type": "execute_result"
    }
   ],
   "source": [
    "dias"
   ]
  },
  {
   "cell_type": "code",
   "execution_count": 11,
   "metadata": {},
   "outputs": [
    {
     "data": {
      "text/plain": [
       "array(['bitcoin', 'ethereum', 'tether', 'binancecoin', 'solana',\n",
       "       'usd-coin', 'ripple', 'staked-ether', 'the-open-network',\n",
       "       'dogecoin'], dtype=object)"
      ]
     },
     "execution_count": 11,
     "metadata": {},
     "output_type": "execute_result"
    }
   ],
   "source": [
    "moedas"
   ]
  },
  {
   "cell_type": "code",
   "execution_count": 15,
   "metadata": {},
   "outputs": [
    {
     "name": "stderr",
     "output_type": "stream",
     "text": [
      "C:\\Users\\gusta\\AppData\\Local\\Temp\\ipykernel_27640\\203116891.py:2: SettingWithCopyWarning: \n",
      "A value is trying to be set on a copy of a slice from a DataFrame.\n",
      "Try using .loc[row_indexer,col_indexer] = value instead\n",
      "\n",
      "See the caveats in the documentation: https://pandas.pydata.org/pandas-docs/stable/user_guide/indexing.html#returning-a-view-versus-a-copy\n",
      "  df_bitcoin['date'] = pd.to_datetime(df_bitcoin['date'])\n"
     ]
    },
    {
     "data": {
      "text/html": [
       "<div>\n",
       "<style scoped>\n",
       "    .dataframe tbody tr th:only-of-type {\n",
       "        vertical-align: middle;\n",
       "    }\n",
       "\n",
       "    .dataframe tbody tr th {\n",
       "        vertical-align: top;\n",
       "    }\n",
       "\n",
       "    .dataframe thead th {\n",
       "        text-align: right;\n",
       "    }\n",
       "</style>\n",
       "<table border=\"1\" class=\"dataframe\">\n",
       "  <thead>\n",
       "    <tr style=\"text-align: right;\">\n",
       "      <th></th>\n",
       "      <th>id_moeda</th>\n",
       "      <th>date</th>\n",
       "      <th>price</th>\n",
       "    </tr>\n",
       "  </thead>\n",
       "  <tbody>\n",
       "    <tr>\n",
       "      <th>0</th>\n",
       "      <td>bitcoin</td>\n",
       "      <td>2023-08-28</td>\n",
       "      <td>26082.717178</td>\n",
       "    </tr>\n",
       "    <tr>\n",
       "      <th>1</th>\n",
       "      <td>bitcoin</td>\n",
       "      <td>2023-08-29</td>\n",
       "      <td>26109.269824</td>\n",
       "    </tr>\n",
       "    <tr>\n",
       "      <th>2</th>\n",
       "      <td>bitcoin</td>\n",
       "      <td>2023-08-30</td>\n",
       "      <td>27730.503736</td>\n",
       "    </tr>\n",
       "    <tr>\n",
       "      <th>3</th>\n",
       "      <td>bitcoin</td>\n",
       "      <td>2023-08-31</td>\n",
       "      <td>27297.261438</td>\n",
       "    </tr>\n",
       "    <tr>\n",
       "      <th>4</th>\n",
       "      <td>bitcoin</td>\n",
       "      <td>2023-09-01</td>\n",
       "      <td>25927.417006</td>\n",
       "    </tr>\n",
       "  </tbody>\n",
       "</table>\n",
       "</div>"
      ],
      "text/plain": [
       "  id_moeda       date         price\n",
       "0  bitcoin 2023-08-28  26082.717178\n",
       "1  bitcoin 2023-08-29  26109.269824\n",
       "2  bitcoin 2023-08-30  27730.503736\n",
       "3  bitcoin 2023-08-31  27297.261438\n",
       "4  bitcoin 2023-09-01  25927.417006"
      ]
     },
     "execution_count": 15,
     "metadata": {},
     "output_type": "execute_result"
    }
   ],
   "source": [
    "df_bitcoin = df_historico[df_historico['id_moeda'] == 'bitcoin']\n",
    "df_bitcoin['date'] = pd.to_datetime(df_bitcoin['date'])\n",
    "df_bitcoin.head()"
   ]
  },
  {
   "cell_type": "code",
   "execution_count": 16,
   "metadata": {},
   "outputs": [
    {
     "data": {
      "text/plain": [
       "<BarContainer object of 366 artists>"
      ]
     },
     "execution_count": 16,
     "metadata": {},
     "output_type": "execute_result"
    },
    {
     "data": {
      "image/png": "[encoded data removed]",
      "text/plain": [
       "<Figure size 640x480 with 1 Axes>"
      ]
     },
     "metadata": {},
     "output_type": "display_data"
    }
   ],
   "source": [
    "plt.bar(df_bitcoin['date'].dt.month, df_bitcoin['price'])\n"
   ]
  },
  {
   "cell_type": "code",
   "execution_count": 18,
   "metadata": {},
   "outputs": [
    {
     "data": {
      "text/plain": [
       "<BarContainer object of 3660 artists>"
      ]
     },
     "execution_count": 18,
     "metadata": {},
     "output_type": "execute_result"
    },
    {
     "data": {
      "image/png": "[encoded data removed]",
      "text/plain": [
       "<Figure size 2000x600 with 1 Axes>"
      ]
     },
     "metadata": {},
     "output_type": "display_data"
    }
   ],
   "source": [
    "plt.figure(figsize=(20, 6))\n",
    "plt.bar(df_historico['id_moeda'], df_historico['price'])"
   ]
  },
  {
   "cell_type": "code",
   "execution_count": 20,
   "metadata": {},
   "outputs": [
    {
     "data": {
      "text/html": [
       "<div>\n",
       "<style scoped>\n",
       "    .dataframe tbody tr th:only-of-type {\n",
       "        vertical-align: middle;\n",
       "    }\n",
       "\n",
       "    .dataframe tbody tr th {\n",
       "        vertical-align: top;\n",
       "    }\n",
       "\n",
       "    .dataframe thead th {\n",
       "        text-align: right;\n",
       "    }\n",
       "</style>\n",
       "<table border=\"1\" class=\"dataframe\">\n",
       "  <thead>\n",
       "    <tr style=\"text-align: right;\">\n",
       "      <th></th>\n",
       "      <th>id_moeda</th>\n",
       "      <th>date</th>\n",
       "      <th>price</th>\n",
       "    </tr>\n",
       "  </thead>\n",
       "  <tbody>\n",
       "    <tr>\n",
       "      <th>366</th>\n",
       "      <td>ethereum</td>\n",
       "      <td>2023-08-28</td>\n",
       "      <td>1656.931058</td>\n",
       "    </tr>\n",
       "    <tr>\n",
       "      <th>367</th>\n",
       "      <td>ethereum</td>\n",
       "      <td>2023-08-29</td>\n",
       "      <td>1653.198566</td>\n",
       "    </tr>\n",
       "    <tr>\n",
       "      <th>368</th>\n",
       "      <td>ethereum</td>\n",
       "      <td>2023-08-30</td>\n",
       "      <td>1730.190258</td>\n",
       "    </tr>\n",
       "    <tr>\n",
       "      <th>369</th>\n",
       "      <td>ethereum</td>\n",
       "      <td>2023-08-31</td>\n",
       "      <td>1705.108103</td>\n",
       "    </tr>\n",
       "    <tr>\n",
       "      <th>370</th>\n",
       "      <td>ethereum</td>\n",
       "      <td>2023-09-01</td>\n",
       "      <td>1645.181525</td>\n",
       "    </tr>\n",
       "  </tbody>\n",
       "</table>\n",
       "</div>"
      ],
      "text/plain": [
       "     id_moeda        date        price\n",
       "366  ethereum  2023-08-28  1656.931058\n",
       "367  ethereum  2023-08-29  1653.198566\n",
       "368  ethereum  2023-08-30  1730.190258\n",
       "369  ethereum  2023-08-31  1705.108103\n",
       "370  ethereum  2023-09-01  1645.181525"
      ]
     },
     "execution_count": 20,
     "metadata": {},
     "output_type": "execute_result"
    }
   ],
   "source": [
    "df_ethereum = df_historico[df_historico['id_moeda'] == 'ethereum']\n",
    "df_ethereum.head()"
   ]
  }
 ],
 "metadata": {
  "kernelspec": {
   "display_name": "venv",
   "language": "python",
   "name": "python3"
  },
  "language_info": {
   "codemirror_mode": {
    "name": "ipython",
    "version": 3
   },
   "file_extension": ".py",
   "mimetype": "text/x-python",
   "name": "python",
   "nbconvert_exporter": "python",
   "pygments_lexer": "ipython3",
   "version": "3.11.9"
  }
 },
 "nbformat": 4,
 "nbformat_minor": 2
}
