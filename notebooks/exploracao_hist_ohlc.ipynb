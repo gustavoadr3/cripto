{
 "cells": [
  {
   "cell_type": "code",
   "execution_count": 1,
   "metadata": {},
   "outputs": [],
   "source": [
    "import pandas as pd\n",
    "import sys\n",
    "import os\n"
   ]
  },
  {
   "cell_type": "code",
   "execution_count": 2,
   "metadata": {},
   "outputs": [
    {
     "name": "stdout",
     "output_type": "stream",
     "text": [
      "Requirement already satisfied: matplotlib in c:\\users\\gusta\\desktop\\estudos\\projeto\\venv\\lib\\site-packages (3.9.2)\n",
      "Requirement already satisfied: contourpy>=1.0.1 in c:\\users\\gusta\\desktop\\estudos\\projeto\\venv\\lib\\site-packages (from matplotlib) (1.2.1)\n",
      "Requirement already satisfied: cycler>=0.10 in c:\\users\\gusta\\desktop\\estudos\\projeto\\venv\\lib\\site-packages (from matplotlib) (0.12.1)\n",
      "Requirement already satisfied: fonttools>=4.22.0 in c:\\users\\gusta\\desktop\\estudos\\projeto\\venv\\lib\\site-packages (from matplotlib) (4.53.1)\n",
      "Requirement already satisfied: kiwisolver>=1.3.1 in c:\\users\\gusta\\desktop\\estudos\\projeto\\venv\\lib\\site-packages (from matplotlib) (1.4.5)\n",
      "Requirement already satisfied: numpy>=1.23 in c:\\users\\gusta\\desktop\\estudos\\projeto\\venv\\lib\\site-packages (from matplotlib) (2.1.0)\n",
      "Requirement already satisfied: packaging>=20.0 in c:\\users\\gusta\\desktop\\estudos\\projeto\\venv\\lib\\site-packages (from matplotlib) (24.1)\n",
      "Requirement already satisfied: pillow>=8 in c:\\users\\gusta\\desktop\\estudos\\projeto\\venv\\lib\\site-packages (from matplotlib) (10.4.0)\n",
      "Requirement already satisfied: pyparsing>=2.3.1 in c:\\users\\gusta\\desktop\\estudos\\projeto\\venv\\lib\\site-packages (from matplotlib) (3.1.4)\n",
      "Requirement already satisfied: python-dateutil>=2.7 in c:\\users\\gusta\\desktop\\estudos\\projeto\\venv\\lib\\site-packages (from matplotlib) (2.9.0.post0)\n",
      "Requirement already satisfied: six>=1.5 in c:\\users\\gusta\\desktop\\estudos\\projeto\\venv\\lib\\site-packages (from python-dateutil>=2.7->matplotlib) (1.16.0)\n",
      "Note: you may need to restart the kernel to use updated packages.\n"
     ]
    },
    {
     "name": "stderr",
     "output_type": "stream",
     "text": [
      "\n",
      "[notice] A new release of pip is available: 24.0 -> 24.2\n",
      "[notice] To update, run: python.exe -m pip install --upgrade pip\n"
     ]
    }
   ],
   "source": [
    "pip install matplotlib\n"
   ]
  },
  {
   "cell_type": "code",
   "execution_count": 3,
   "metadata": {},
   "outputs": [],
   "source": [
    "import matplotlib.pyplot as plt\n"
   ]
  },
  {
   "cell_type": "code",
   "execution_count": 4,
   "metadata": {},
   "outputs": [
    {
     "data": {
      "text/html": [
       "<div>\n",
       "<style scoped>\n",
       "    .dataframe tbody tr th:only-of-type {\n",
       "        vertical-align: middle;\n",
       "    }\n",
       "\n",
       "    .dataframe tbody tr th {\n",
       "        vertical-align: top;\n",
       "    }\n",
       "\n",
       "    .dataframe thead th {\n",
       "        text-align: right;\n",
       "    }\n",
       "</style>\n",
       "<table border=\"1\" class=\"dataframe\">\n",
       "  <thead>\n",
       "    <tr style=\"text-align: right;\">\n",
       "      <th></th>\n",
       "      <th>nome</th>\n",
       "      <th>data</th>\n",
       "      <th>abertura</th>\n",
       "      <th>maior_valor</th>\n",
       "      <th>menor_valor</th>\n",
       "      <th>fechamento</th>\n",
       "    </tr>\n",
       "  </thead>\n",
       "  <tbody>\n",
       "    <tr>\n",
       "      <th>0</th>\n",
       "      <td>bitcoin</td>\n",
       "      <td>2023-08-27</td>\n",
       "      <td>26043.0</td>\n",
       "      <td>26087.0</td>\n",
       "      <td>25991.0</td>\n",
       "      <td>26002.0</td>\n",
       "    </tr>\n",
       "    <tr>\n",
       "      <th>1</th>\n",
       "      <td>bitcoin</td>\n",
       "      <td>2023-08-31</td>\n",
       "      <td>26002.0</td>\n",
       "      <td>27999.0</td>\n",
       "      <td>25886.0</td>\n",
       "      <td>27297.0</td>\n",
       "    </tr>\n",
       "    <tr>\n",
       "      <th>2</th>\n",
       "      <td>bitcoin</td>\n",
       "      <td>2023-09-04</td>\n",
       "      <td>27303.0</td>\n",
       "      <td>27403.0</td>\n",
       "      <td>25438.0</td>\n",
       "      <td>25960.0</td>\n",
       "    </tr>\n",
       "    <tr>\n",
       "      <th>3</th>\n",
       "      <td>bitcoin</td>\n",
       "      <td>2023-09-08</td>\n",
       "      <td>25969.0</td>\n",
       "      <td>26401.0</td>\n",
       "      <td>25476.0</td>\n",
       "      <td>26192.0</td>\n",
       "    </tr>\n",
       "    <tr>\n",
       "      <th>4</th>\n",
       "      <td>bitcoin</td>\n",
       "      <td>2023-09-12</td>\n",
       "      <td>26215.0</td>\n",
       "      <td>26383.0</td>\n",
       "      <td>25006.0</td>\n",
       "      <td>25133.0</td>\n",
       "    </tr>\n",
       "  </tbody>\n",
       "</table>\n",
       "</div>"
      ],
      "text/plain": [
       "      nome        data  abertura  maior_valor  menor_valor  fechamento\n",
       "0  bitcoin  2023-08-27   26043.0      26087.0      25991.0     26002.0\n",
       "1  bitcoin  2023-08-31   26002.0      27999.0      25886.0     27297.0\n",
       "2  bitcoin  2023-09-04   27303.0      27403.0      25438.0     25960.0\n",
       "3  bitcoin  2023-09-08   25969.0      26401.0      25476.0     26192.0\n",
       "4  bitcoin  2023-09-12   26215.0      26383.0      25006.0     25133.0"
      ]
     },
     "execution_count": 4,
     "metadata": {},
     "output_type": "execute_result"
    }
   ],
   "source": [
    "df_ohc = pd.read_csv(r'C:\\Users\\gusta\\Desktop\\Estudos\\Projeto\\data\\processed\\hist_ohlc.csv')\n",
    "df_ohc.head()"
   ]
  },
  {
   "cell_type": "code",
   "execution_count": 5,
   "metadata": {},
   "outputs": [
    {
     "name": "stdout",
     "output_type": "stream",
     "text": [
      "<class 'pandas.core.frame.DataFrame'>\n",
      "RangeIndex: 920 entries, 0 to 919\n",
      "Data columns (total 6 columns):\n",
      " #   Column       Non-Null Count  Dtype  \n",
      "---  ------       --------------  -----  \n",
      " 0   nome         920 non-null    object \n",
      " 1   data         920 non-null    object \n",
      " 2   abertura     920 non-null    float64\n",
      " 3   maior_valor  920 non-null    float64\n",
      " 4   menor_valor  920 non-null    float64\n",
      " 5   fechamento   920 non-null    float64\n",
      "dtypes: float64(4), object(2)\n",
      "memory usage: 43.3+ KB\n"
     ]
    }
   ],
   "source": [
    "df_ohc.info()"
   ]
  },
  {
   "cell_type": "code",
   "execution_count": 6,
   "metadata": {},
   "outputs": [
    {
     "data": {
      "text/plain": [
       "array(['bitcoin', 'ethereum', 'tether', 'binancecoin', 'solana',\n",
       "       'usd-coin', 'ripple', 'staked-ether', 'the-open-network',\n",
       "       'dogecoin'], dtype=object)"
      ]
     },
     "execution_count": 6,
     "metadata": {},
     "output_type": "execute_result"
    }
   ],
   "source": [
    "moedas = df_ohc['nome'].unique()\n",
    "moedas"
   ]
  },
  {
   "cell_type": "code",
   "execution_count": 7,
   "metadata": {},
   "outputs": [
    {
     "data": {
      "text/plain": [
       "array(['2023-08-27', '2023-08-31', '2023-09-04', '2023-09-08',\n",
       "       '2023-09-12', '2023-09-16', '2023-09-20', '2023-09-24',\n",
       "       '2023-09-28', '2023-10-02', '2023-10-06', '2023-10-10',\n",
       "       '2023-10-14', '2023-10-18', '2023-10-22', '2023-10-26',\n",
       "       '2023-10-30', '2023-11-03', '2023-11-07', '2023-11-11',\n",
       "       '2023-11-15', '2023-11-19', '2023-11-23', '2023-11-27',\n",
       "       '2023-12-01', '2023-12-05', '2023-12-09', '2023-12-13',\n",
       "       '2023-12-17', '2023-12-21', '2023-12-25', '2023-12-29',\n",
       "       '2024-01-02', '2024-01-06', '2024-01-10', '2024-01-14',\n",
       "       '2024-01-18', '2024-01-22', '2024-01-26', '2024-01-30',\n",
       "       '2024-02-03', '2024-02-07', '2024-02-11', '2024-02-15',\n",
       "       '2024-02-19', '2024-02-23', '2024-02-27', '2024-03-02',\n",
       "       '2024-03-06', '2024-03-10', '2024-03-14', '2024-03-18',\n",
       "       '2024-03-22', '2024-03-26', '2024-03-30', '2024-04-03',\n",
       "       '2024-04-07', '2024-04-11', '2024-04-15', '2024-04-19',\n",
       "       '2024-04-23', '2024-04-27', '2024-05-01', '2024-05-05',\n",
       "       '2024-05-09', '2024-05-13', '2024-05-17', '2024-05-21',\n",
       "       '2024-05-25', '2024-05-29', '2024-06-02', '2024-06-06',\n",
       "       '2024-06-10', '2024-06-14', '2024-06-18', '2024-06-22',\n",
       "       '2024-06-26', '2024-06-30', '2024-07-04', '2024-07-08',\n",
       "       '2024-07-12', '2024-07-16', '2024-07-20', '2024-07-24',\n",
       "       '2024-07-28', '2024-08-01', '2024-08-05', '2024-08-09',\n",
       "       '2024-08-13', '2024-08-17', '2024-08-21', '2024-08-25'],\n",
       "      dtype=object)"
      ]
     },
     "execution_count": 7,
     "metadata": {},
     "output_type": "execute_result"
    }
   ],
   "source": [
    "dias = df_ohc['data'].unique()\n",
    "dias"
   ]
  },
  {
   "cell_type": "code",
   "execution_count": 8,
   "metadata": {},
   "outputs": [
    {
     "data": {
      "text/html": [
       "<div>\n",
       "<style scoped>\n",
       "    .dataframe tbody tr th:only-of-type {\n",
       "        vertical-align: middle;\n",
       "    }\n",
       "\n",
       "    .dataframe tbody tr th {\n",
       "        vertical-align: top;\n",
       "    }\n",
       "\n",
       "    .dataframe thead th {\n",
       "        text-align: right;\n",
       "    }\n",
       "</style>\n",
       "<table border=\"1\" class=\"dataframe\">\n",
       "  <thead>\n",
       "    <tr style=\"text-align: right;\">\n",
       "      <th></th>\n",
       "      <th>nome</th>\n",
       "      <th>data</th>\n",
       "      <th>abertura</th>\n",
       "      <th>maior_valor</th>\n",
       "      <th>menor_valor</th>\n",
       "      <th>fechamento</th>\n",
       "    </tr>\n",
       "  </thead>\n",
       "  <tbody>\n",
       "    <tr>\n",
       "      <th>0</th>\n",
       "      <td>bitcoin</td>\n",
       "      <td>2023-08-27</td>\n",
       "      <td>26043.0</td>\n",
       "      <td>26087.0</td>\n",
       "      <td>25991.0</td>\n",
       "      <td>26002.0</td>\n",
       "    </tr>\n",
       "    <tr>\n",
       "      <th>1</th>\n",
       "      <td>bitcoin</td>\n",
       "      <td>2023-08-31</td>\n",
       "      <td>26002.0</td>\n",
       "      <td>27999.0</td>\n",
       "      <td>25886.0</td>\n",
       "      <td>27297.0</td>\n",
       "    </tr>\n",
       "    <tr>\n",
       "      <th>2</th>\n",
       "      <td>bitcoin</td>\n",
       "      <td>2023-09-04</td>\n",
       "      <td>27303.0</td>\n",
       "      <td>27403.0</td>\n",
       "      <td>25438.0</td>\n",
       "      <td>25960.0</td>\n",
       "    </tr>\n",
       "    <tr>\n",
       "      <th>3</th>\n",
       "      <td>bitcoin</td>\n",
       "      <td>2023-09-08</td>\n",
       "      <td>25969.0</td>\n",
       "      <td>26401.0</td>\n",
       "      <td>25476.0</td>\n",
       "      <td>26192.0</td>\n",
       "    </tr>\n",
       "    <tr>\n",
       "      <th>4</th>\n",
       "      <td>bitcoin</td>\n",
       "      <td>2023-09-12</td>\n",
       "      <td>26215.0</td>\n",
       "      <td>26383.0</td>\n",
       "      <td>25006.0</td>\n",
       "      <td>25133.0</td>\n",
       "    </tr>\n",
       "    <tr>\n",
       "      <th>...</th>\n",
       "      <td>...</td>\n",
       "      <td>...</td>\n",
       "      <td>...</td>\n",
       "      <td>...</td>\n",
       "      <td>...</td>\n",
       "      <td>...</td>\n",
       "    </tr>\n",
       "    <tr>\n",
       "      <th>87</th>\n",
       "      <td>bitcoin</td>\n",
       "      <td>2024-08-09</td>\n",
       "      <td>58164.0</td>\n",
       "      <td>62491.0</td>\n",
       "      <td>49221.0</td>\n",
       "      <td>61859.0</td>\n",
       "    </tr>\n",
       "    <tr>\n",
       "      <th>88</th>\n",
       "      <td>bitcoin</td>\n",
       "      <td>2024-08-13</td>\n",
       "      <td>61570.0</td>\n",
       "      <td>61668.0</td>\n",
       "      <td>57815.0</td>\n",
       "      <td>59350.0</td>\n",
       "    </tr>\n",
       "    <tr>\n",
       "      <th>89</th>\n",
       "      <td>bitcoin</td>\n",
       "      <td>2024-08-17</td>\n",
       "      <td>59347.0</td>\n",
       "      <td>61540.0</td>\n",
       "      <td>56647.0</td>\n",
       "      <td>58882.0</td>\n",
       "    </tr>\n",
       "    <tr>\n",
       "      <th>90</th>\n",
       "      <td>bitcoin</td>\n",
       "      <td>2024-08-21</td>\n",
       "      <td>58873.0</td>\n",
       "      <td>61361.0</td>\n",
       "      <td>57918.0</td>\n",
       "      <td>59060.0</td>\n",
       "    </tr>\n",
       "    <tr>\n",
       "      <th>91</th>\n",
       "      <td>bitcoin</td>\n",
       "      <td>2024-08-25</td>\n",
       "      <td>59029.0</td>\n",
       "      <td>64828.0</td>\n",
       "      <td>58905.0</td>\n",
       "      <td>64157.0</td>\n",
       "    </tr>\n",
       "  </tbody>\n",
       "</table>\n",
       "<p>92 rows × 6 columns</p>\n",
       "</div>"
      ],
      "text/plain": [
       "       nome        data  abertura  maior_valor  menor_valor  fechamento\n",
       "0   bitcoin  2023-08-27   26043.0      26087.0      25991.0     26002.0\n",
       "1   bitcoin  2023-08-31   26002.0      27999.0      25886.0     27297.0\n",
       "2   bitcoin  2023-09-04   27303.0      27403.0      25438.0     25960.0\n",
       "3   bitcoin  2023-09-08   25969.0      26401.0      25476.0     26192.0\n",
       "4   bitcoin  2023-09-12   26215.0      26383.0      25006.0     25133.0\n",
       "..      ...         ...       ...          ...          ...         ...\n",
       "87  bitcoin  2024-08-09   58164.0      62491.0      49221.0     61859.0\n",
       "88  bitcoin  2024-08-13   61570.0      61668.0      57815.0     59350.0\n",
       "89  bitcoin  2024-08-17   59347.0      61540.0      56647.0     58882.0\n",
       "90  bitcoin  2024-08-21   58873.0      61361.0      57918.0     59060.0\n",
       "91  bitcoin  2024-08-25   59029.0      64828.0      58905.0     64157.0\n",
       "\n",
       "[92 rows x 6 columns]"
      ]
     },
     "execution_count": 8,
     "metadata": {},
     "output_type": "execute_result"
    }
   ],
   "source": [
    "df_bitcoin = df_ohc[df_ohc['nome'] == 'bitcoin']\n",
    "df_bitcoin.head(100)"
   ]
  },
  {
   "cell_type": "code",
   "execution_count": 9,
   "metadata": {},
   "outputs": [
    {
     "name": "stdout",
     "output_type": "stream",
     "text": [
      "<class 'pandas.core.frame.DataFrame'>\n",
      "Index: 92 entries, 0 to 91\n",
      "Data columns (total 6 columns):\n",
      " #   Column       Non-Null Count  Dtype         \n",
      "---  ------       --------------  -----         \n",
      " 0   nome         92 non-null     object        \n",
      " 1   data         92 non-null     datetime64[ns]\n",
      " 2   abertura     92 non-null     float64       \n",
      " 3   maior_valor  92 non-null     float64       \n",
      " 4   menor_valor  92 non-null     float64       \n",
      " 5   fechamento   92 non-null     float64       \n",
      "dtypes: datetime64[ns](1), float64(4), object(1)\n",
      "memory usage: 5.0+ KB\n"
     ]
    },
    {
     "name": "stderr",
     "output_type": "stream",
     "text": [
      "C:\\Users\\gusta\\AppData\\Local\\Temp\\ipykernel_10268\\3669208061.py:1: SettingWithCopyWarning: \n",
      "A value is trying to be set on a copy of a slice from a DataFrame.\n",
      "Try using .loc[row_indexer,col_indexer] = value instead\n",
      "\n",
      "See the caveats in the documentation: https://pandas.pydata.org/pandas-docs/stable/user_guide/indexing.html#returning-a-view-versus-a-copy\n",
      "  df_bitcoin['data'] = pd.to_datetime(df_bitcoin['data'])\n"
     ]
    }
   ],
   "source": [
    "df_bitcoin['data'] = pd.to_datetime(df_bitcoin['data'])\n",
    "df_bitcoin.info()"
   ]
  },
  {
   "cell_type": "code",
   "execution_count": 10,
   "metadata": {},
   "outputs": [
    {
     "data": {
      "text/plain": [
       "<BarContainer object of 92 artists>"
      ]
     },
     "execution_count": 10,
     "metadata": {},
     "output_type": "execute_result"
    },
    {
     "data": {
      "image/png": "[encoded data removed]",
      "text/plain": [
       "<Figure size 640x480 with 1 Axes>"
      ]
     },
     "metadata": {},
     "output_type": "display_data"
    }
   ],
   "source": [
    "plt.bar(df_bitcoin['data'].dt.month, df_bitcoin['maior_valor'])\n"
   ]
  },
  {
   "cell_type": "code",
   "execution_count": 11,
   "metadata": {},
   "outputs": [
    {
     "data": {
      "text/plain": [
       "<BarContainer object of 920 artists>"
      ]
     },
     "execution_count": 11,
     "metadata": {},
     "output_type": "execute_result"
    },
    {
     "data": {
      "image/png": "[encoded data removed]",
      "text/plain": [
       "<Figure size 2000x600 with 1 Axes>"
      ]
     },
     "metadata": {},
     "output_type": "display_data"
    }
   ],
   "source": [
    "plt.figure(figsize=(20, 6))\n",
    "plt.bar(df_ohc['nome'], df_ohc['maior_valor'])\n"
   ]
  },
  {
   "cell_type": "code",
   "execution_count": 12,
   "metadata": {},
   "outputs": [
    {
     "data": {
      "text/html": [
       "<div>\n",
       "<style scoped>\n",
       "    .dataframe tbody tr th:only-of-type {\n",
       "        vertical-align: middle;\n",
       "    }\n",
       "\n",
       "    .dataframe tbody tr th {\n",
       "        vertical-align: top;\n",
       "    }\n",
       "\n",
       "    .dataframe thead th {\n",
       "        text-align: right;\n",
       "    }\n",
       "</style>\n",
       "<table border=\"1\" class=\"dataframe\">\n",
       "  <thead>\n",
       "    <tr style=\"text-align: right;\">\n",
       "      <th></th>\n",
       "      <th>nome</th>\n",
       "      <th>data</th>\n",
       "      <th>abertura</th>\n",
       "      <th>maior_valor</th>\n",
       "      <th>menor_valor</th>\n",
       "      <th>fechamento</th>\n",
       "    </tr>\n",
       "  </thead>\n",
       "  <tbody>\n",
       "    <tr>\n",
       "      <th>184</th>\n",
       "      <td>tether</td>\n",
       "      <td>2023-08-27</td>\n",
       "      <td>0.999230</td>\n",
       "      <td>1.000</td>\n",
       "      <td>0.998576</td>\n",
       "      <td>0.999656</td>\n",
       "    </tr>\n",
       "    <tr>\n",
       "      <th>185</th>\n",
       "      <td>tether</td>\n",
       "      <td>2023-08-31</td>\n",
       "      <td>0.999387</td>\n",
       "      <td>1.004</td>\n",
       "      <td>0.986165</td>\n",
       "      <td>0.999715</td>\n",
       "    </tr>\n",
       "    <tr>\n",
       "      <th>186</th>\n",
       "      <td>tether</td>\n",
       "      <td>2023-09-04</td>\n",
       "      <td>1.000000</td>\n",
       "      <td>1.006</td>\n",
       "      <td>0.996735</td>\n",
       "      <td>0.999607</td>\n",
       "    </tr>\n",
       "    <tr>\n",
       "      <th>187</th>\n",
       "      <td>tether</td>\n",
       "      <td>2023-09-08</td>\n",
       "      <td>0.999891</td>\n",
       "      <td>1.006</td>\n",
       "      <td>0.995520</td>\n",
       "      <td>0.999929</td>\n",
       "    </tr>\n",
       "    <tr>\n",
       "      <th>188</th>\n",
       "      <td>tether</td>\n",
       "      <td>2023-09-12</td>\n",
       "      <td>0.998816</td>\n",
       "      <td>1.002</td>\n",
       "      <td>0.994504</td>\n",
       "      <td>0.999701</td>\n",
       "    </tr>\n",
       "  </tbody>\n",
       "</table>\n",
       "</div>"
      ],
      "text/plain": [
       "       nome        data  abertura  maior_valor  menor_valor  fechamento\n",
       "184  tether  2023-08-27  0.999230        1.000     0.998576    0.999656\n",
       "185  tether  2023-08-31  0.999387        1.004     0.986165    0.999715\n",
       "186  tether  2023-09-04  1.000000        1.006     0.996735    0.999607\n",
       "187  tether  2023-09-08  0.999891        1.006     0.995520    0.999929\n",
       "188  tether  2023-09-12  0.998816        1.002     0.994504    0.999701"
      ]
     },
     "execution_count": 12,
     "metadata": {},
     "output_type": "execute_result"
    }
   ],
   "source": [
    "df_tether = df_ohc[df_ohc['nome'] == 'tether']\n",
    "df_tether.head()"
   ]
  }
 ],
 "metadata": {
  "kernelspec": {
   "display_name": "venv",
   "language": "python",
   "name": "python3"
  },
  "language_info": {
   "codemirror_mode": {
    "name": "ipython",
    "version": 3
   },
   "file_extension": ".py",
   "mimetype": "text/x-python",
   "name": "python",
   "nbconvert_exporter": "python",
   "pygments_lexer": "ipython3",
   "version": "3.11.9"
  }
 },
 "nbformat": 4,
 "nbformat_minor": 2
}
